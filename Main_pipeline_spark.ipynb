{
  "nbformat": 4,
  "nbformat_minor": 0,
  "metadata": {
    "colab": {
      "provenance": [],
      "authorship_tag": "ABX9TyPkgVP8afaiPEfqgxChWq1j",
      "include_colab_link": true
    },
    "kernelspec": {
      "name": "python3",
      "display_name": "Python 3"
    },
    "language_info": {
      "name": "python"
    }
  },
  "cells": [
    {
      "cell_type": "markdown",
      "metadata": {
        "id": "view-in-github",
        "colab_type": "text"
      },
      "source": [
        "<a href=\"https://colab.research.google.com/github/FthiagoOliveiraS/Engenharia_dados_spark/blob/main/Main_pipeline_spark.ipynb\" target=\"_parent\"><img src=\"https://colab.research.google.com/assets/colab-badge.svg\" alt=\"Open In Colab\"/></a>"
      ]
    },
    {
      "cell_type": "code",
      "execution_count": 2,
      "metadata": {
        "id": "0c0LL-8XZw4m"
      },
      "outputs": [],
      "source": [
        "## Instalando as dependências\n",
        "\n",
        "!apt-get install openjdk-8-jdk-headless -qq > /dev/null\n",
        "!wget -q https://archive.apache.org/dist/spark/spark-3.1.2/spark-3.1.2-bin-hadoop2.7.tgz\n",
        "!tar xf spark-3.1.2-bin-hadoop2.7.tgz\n",
        "!pip install -q findspark"
      ]
    },
    {
      "cell_type": "code",
      "source": [
        "## Configurando as variaveis de ambiente\n",
        "\n",
        "import os\n",
        "\n",
        "os.environ[\"JAVA_HOME\"] = \"/usr/lib/jvm/java-8-openjdk-amd64\"\n",
        "os.environ[\"SPARK_HOME\"] = \"/content/spark-3.1.2-bin-hadoop2.7\""
      ],
      "metadata": {
        "id": "nWI5TE-baHra"
      },
      "execution_count": 3,
      "outputs": []
    },
    {
      "cell_type": "code",
      "source": [
        "## Localizando o SPARK\n",
        "import findspark\n",
        "findspark.init()"
      ],
      "metadata": {
        "id": "O0KPYVfaaK6j"
      },
      "execution_count": 4,
      "outputs": []
    },
    {
      "cell_type": "code",
      "source": [
        "from pyspark.sql import SparkSession\n",
        "spark = SparkSession.builder \\\n",
        "        .master('local[2]') \\\n",
        "        .appName(\"Iniciando com Spark\") \\\n",
        "        .getOrCreate()"
      ],
      "metadata": {
        "id": "4GrbYxIsBrKT"
      },
      "execution_count": 5,
      "outputs": []
    },
    {
      "cell_type": "code",
      "source": [
        "spark"
      ],
      "metadata": {
        "colab": {
          "base_uri": "https://localhost:8080/",
          "height": 222
        },
        "id": "JHh1fOuICgvC",
        "outputId": "f3edcbdc-9c8d-4c94-a238-b667ca9c0e55"
      },
      "execution_count": 6,
      "outputs": [
        {
          "output_type": "execute_result",
          "data": {
            "text/plain": [
              "<pyspark.sql.session.SparkSession at 0x7aff0f4e9100>"
            ],
            "text/html": [
              "\n",
              "            <div>\n",
              "                <p><b>SparkSession - in-memory</b></p>\n",
              "                \n",
              "        <div>\n",
              "            <p><b>SparkContext</b></p>\n",
              "\n",
              "            <p><a href=\"http://db4fda5de704:4040\">Spark UI</a></p>\n",
              "\n",
              "            <dl>\n",
              "              <dt>Version</dt>\n",
              "                <dd><code>v3.1.2</code></dd>\n",
              "              <dt>Master</dt>\n",
              "                <dd><code>local[2]</code></dd>\n",
              "              <dt>AppName</dt>\n",
              "                <dd><code>Iniciando com Spark</code></dd>\n",
              "            </dl>\n",
              "        </div>\n",
              "        \n",
              "            </div>\n",
              "        "
            ]
          },
          "metadata": {},
          "execution_count": 6
        }
      ]
    },
    {
      "cell_type": "markdown",
      "source": [
        "# EMPRESA 01"
      ],
      "metadata": {
        "id": "9ZEga33M9Dz3"
      }
    },
    {
      "cell_type": "markdown",
      "source": [
        "### IMPORTANDO AS BASES DE DADOS"
      ],
      "metadata": {
        "id": "BdcFN0H2P0Db"
      }
    },
    {
      "cell_type": "code",
      "source": [
        "# Resgatando os dados da empresa 01\n",
        "# O arquivo original é um json\n",
        "\n",
        "df1 = spark.read.json(\"/content/dados_empresaA.json\")\n",
        "df1.show(truncate=False)   # Mostra os dados\n",
        "df1.printSchema()          # Mostra a estrutura (campos e tipos)"
      ],
      "metadata": {
        "colab": {
          "base_uri": "https://localhost:8080/"
        },
        "id": "RRWIG__fNlvL",
        "outputId": "d50e8ad2-7d63-4d55-b273-139d067f9444"
      },
      "execution_count": 7,
      "outputs": [
        {
          "output_type": "stream",
          "name": "stdout",
          "text": [
            "+--------------------+---------+--------------------+---------------------+---------------------+------------------------------------------------------------------------------------------------------------------------------------------------------------------------+\n",
            "|Categoria do Produto|Filial   |Nome do Produto     |Preço do Produto (R$)|Quantidade em Estoque|_corrupt_record                                                                                                                                                         |\n",
            "+--------------------+---------+--------------------+---------------------+---------------------+------------------------------------------------------------------------------------------------------------------------------------------------------------------------+\n",
            "|null                |null     |null                |null                 |null                 |[{\"Nome do Produto\":\"Blush em p\\u00f3\",\"Categoria do Produto\":\"Eletrodom\\u00e9sticos\",\"Pre\\u00e7o do Produto (R$)\":79.41,\"Quantidade em Estoque\":7,\"Filial\":\"Filial 7\"},|\n",
            "|Eletrodomésticos    |Filial 8 |Lápis de sobrancelha|85.47                |78                   |null                                                                                                                                                                    |\n",
            "|Roupas              |Filial 8 |Base líquida        |75.02                |34                   |null                                                                                                                                                                    |\n",
            "|Roupas              |Filial 10|Base líquida        |44.94                |90                   |null                                                                                                                                                                    |\n",
            "|Alimentos           |Filial 7 |Lápis de sobrancelha|58.63                |91                   |null                                                                                                                                                                    |\n",
            "|Roupas              |Filial 7 |Blush em pó         |50.79                |77                   |null                                                                                                                                                                    |\n",
            "|Eletrodomésticos    |Filial 4 |Corretivo           |20.46                |2                    |null                                                                                                                                                                    |\n",
            "|Roupas              |Filial 9 |Pó compacto         |85.56                |37                   |null                                                                                                                                                                    |\n",
            "|Roupas              |Filial 8 |Sombra de olhos     |31.92                |56                   |null                                                                                                                                                                    |\n",
            "|Alimentos           |Filial 3 |Delineador líquido  |42.58                |8                    |null                                                                                                                                                                    |\n",
            "|Eletrodomésticos    |Filial 8 |Corretivo           |92.03                |10                   |null                                                                                                                                                                    |\n",
            "|Roupas              |Filial 8 |Lápis de sobrancelha|91.01                |95                   |null                                                                                                                                                                    |\n",
            "|Eletrônicos         |Filial 7 |Delineador líquido  |40.01                |85                   |null                                                                                                                                                                    |\n",
            "|Alimentos           |Filial 4 |Base líquida        |37.56                |90                   |null                                                                                                                                                                    |\n",
            "|Roupas              |Filial 6 |Blush em pó         |9.93                 |82                   |null                                                                                                                                                                    |\n",
            "|Eletrônicos         |Filial 2 |Batom matte         |80.34                |42                   |null                                                                                                                                                                    |\n",
            "|Alimentos           |Filial 7 |Pó compacto         |67.77                |13                   |null                                                                                                                                                                    |\n",
            "|Roupas              |Filial 3 |Batom matte         |94.63                |20                   |null                                                                                                                                                                    |\n",
            "|Roupas              |Filial 1 |Corretivo           |67.85                |8                    |null                                                                                                                                                                    |\n",
            "|Eletrônicos         |Filial 1 |Sombra de olhos     |54.05                |8                    |null                                                                                                                                                                    |\n",
            "+--------------------+---------+--------------------+---------------------+---------------------+------------------------------------------------------------------------------------------------------------------------------------------------------------------------+\n",
            "only showing top 20 rows\n",
            "\n",
            "root\n",
            " |-- Categoria do Produto: string (nullable = true)\n",
            " |-- Filial: string (nullable = true)\n",
            " |-- Nome do Produto: string (nullable = true)\n",
            " |-- Preço do Produto (R$): double (nullable = true)\n",
            " |-- Quantidade em Estoque: long (nullable = true)\n",
            " |-- _corrupt_record: string (nullable = true)\n",
            "\n"
          ]
        }
      ]
    },
    {
      "cell_type": "markdown",
      "source": [
        "## EXPLORANDO OS DADOS"
      ],
      "metadata": {
        "id": "sJkkfx-1812Y"
      }
    },
    {
      "cell_type": "code",
      "source": [
        "df1.describe().show()"
      ],
      "metadata": {
        "colab": {
          "base_uri": "https://localhost:8080/"
        },
        "id": "L7Bma-ni9Opj",
        "outputId": "1d325beb-6c92-45f0-bae7-f7a863f1c76e"
      },
      "execution_count": 8,
      "outputs": [
        {
          "output_type": "stream",
          "name": "stdout",
          "text": [
            "+-------+--------------------+--------+---------------+---------------------+---------------------+--------------------+\n",
            "|summary|Categoria do Produto|  Filial|Nome do Produto|Preço do Produto (R$)|Quantidade em Estoque|     _corrupt_record|\n",
            "+-------+--------------------+--------+---------------+---------------------+---------------------+--------------------+\n",
            "|  count|                3122|    3122|           3122|                 3122|                 3122|                   1|\n",
            "|   mean|                null|    null|           null|    50.59896860986547|    49.78891736066624|                null|\n",
            "| stddev|                null|    null|           null|    28.28181202706821|   28.697931251283403|                null|\n",
            "|    min|           Alimentos|Filial 1|   Base líquida|                 1.03|                    1|[{\"Nome do Produt...|\n",
            "|    max|              Roupas|Filial 9|Sombra de olhos|                99.98|                  100|[{\"Nome do Produt...|\n",
            "+-------+--------------------+--------+---------------+---------------------+---------------------+--------------------+\n",
            "\n"
          ]
        }
      ]
    },
    {
      "cell_type": "markdown",
      "source": [
        "## DATA CLEAN"
      ],
      "metadata": {
        "id": "T8vg9Hgy8ppd"
      }
    },
    {
      "cell_type": "code",
      "source": [
        "# Percebemos que uma única linha não foi reconhecida devidamente, vamos elimina-la.\n",
        "\n",
        "df1 = df1.drop(\"_corrupt_record\")"
      ],
      "metadata": {
        "id": "pStaeRkBVe7Y"
      },
      "execution_count": 9,
      "outputs": []
    },
    {
      "cell_type": "code",
      "source": [
        "# Certificando o novo formato\n",
        "\n",
        "df1.show(truncate=False)"
      ],
      "metadata": {
        "colab": {
          "base_uri": "https://localhost:8080/"
        },
        "id": "wih3OwjAV7ui",
        "outputId": "dcc33a17-ee79-42df-e122-1311b49d4de4"
      },
      "execution_count": 10,
      "outputs": [
        {
          "output_type": "stream",
          "name": "stdout",
          "text": [
            "+--------------------+---------+--------------------+---------------------+---------------------+\n",
            "|Categoria do Produto|Filial   |Nome do Produto     |Preço do Produto (R$)|Quantidade em Estoque|\n",
            "+--------------------+---------+--------------------+---------------------+---------------------+\n",
            "|null                |null     |null                |null                 |null                 |\n",
            "|Eletrodomésticos    |Filial 8 |Lápis de sobrancelha|85.47                |78                   |\n",
            "|Roupas              |Filial 8 |Base líquida        |75.02                |34                   |\n",
            "|Roupas              |Filial 10|Base líquida        |44.94                |90                   |\n",
            "|Alimentos           |Filial 7 |Lápis de sobrancelha|58.63                |91                   |\n",
            "|Roupas              |Filial 7 |Blush em pó         |50.79                |77                   |\n",
            "|Eletrodomésticos    |Filial 4 |Corretivo           |20.46                |2                    |\n",
            "|Roupas              |Filial 9 |Pó compacto         |85.56                |37                   |\n",
            "|Roupas              |Filial 8 |Sombra de olhos     |31.92                |56                   |\n",
            "|Alimentos           |Filial 3 |Delineador líquido  |42.58                |8                    |\n",
            "|Eletrodomésticos    |Filial 8 |Corretivo           |92.03                |10                   |\n",
            "|Roupas              |Filial 8 |Lápis de sobrancelha|91.01                |95                   |\n",
            "|Eletrônicos         |Filial 7 |Delineador líquido  |40.01                |85                   |\n",
            "|Alimentos           |Filial 4 |Base líquida        |37.56                |90                   |\n",
            "|Roupas              |Filial 6 |Blush em pó         |9.93                 |82                   |\n",
            "|Eletrônicos         |Filial 2 |Batom matte         |80.34                |42                   |\n",
            "|Alimentos           |Filial 7 |Pó compacto         |67.77                |13                   |\n",
            "|Roupas              |Filial 3 |Batom matte         |94.63                |20                   |\n",
            "|Roupas              |Filial 1 |Corretivo           |67.85                |8                    |\n",
            "|Eletrônicos         |Filial 1 |Sombra de olhos     |54.05                |8                    |\n",
            "+--------------------+---------+--------------------+---------------------+---------------------+\n",
            "only showing top 20 rows\n",
            "\n"
          ]
        }
      ]
    },
    {
      "cell_type": "markdown",
      "source": [
        "# EMPRESA 02"
      ],
      "metadata": {
        "id": "cD7MVX8R8gNO"
      }
    },
    {
      "cell_type": "markdown",
      "source": [
        "### IMPORTANDO AS BASES DE DADOS"
      ],
      "metadata": {
        "id": "D3lrwte2WMY2"
      }
    },
    {
      "cell_type": "code",
      "source": [
        "# Resgatando os dados da empresa 01\n",
        "# O arquivo original é um CSV\n",
        "\n",
        "df2 = spark.read.csv(\"/content/dados_empresaB.csv\", header=True, sep=',')\n",
        "df2.show(truncate=False)     # Mostra os dados\n",
        "df2.printSchema()            # Mostra a estrutura (campos e tipos)"
      ],
      "metadata": {
        "colab": {
          "base_uri": "https://localhost:8080/"
        },
        "id": "X5euwfw-C5l3",
        "outputId": "c47993c1-5196-4558-d959-466a295e87fe"
      },
      "execution_count": 14,
      "outputs": [
        {
          "output_type": "stream",
          "name": "stdout",
          "text": [
            "+--------------------+------------------------+-------------------+---------------------+------------+--------------------------+\n",
            "|Nome do Item        |Classificação do Produto|Valor em Reais (R$)|Quantidade em Estoque|Nome da Loja|Data da Venda             |\n",
            "+--------------------+------------------------+-------------------+---------------------+------------+--------------------------+\n",
            "|Lápis de sobrancelha|Roupas                  |55.17              |62                   |Filial 1    |2023-04-13 18:58:06.794203|\n",
            "|Batom matte         |Eletrônicos             |74.15              |48                   |Filial 9    |2023-06-03 18:58:06.794203|\n",
            "|Corretivo           |Roupas                  |54.86              |36                   |Filial 5    |2023-06-08 18:58:06.794203|\n",
            "|Delineador líquido  |Roupas                  |91.29              |1                    |Filial 8    |2023-02-27 18:58:06.794203|\n",
            "|Batom líquido       |Roupas                  |44.65              |52                   |Filial 2    |2022-09-05 18:58:06.794203|\n",
            "|Base líquida        |Eletrônicos             |5.22               |85                   |Filial 3    |2022-09-11 18:58:06.794203|\n",
            "|Máscara de cílios   |Eletrônicos             |1.08               |31                   |Filial 6    |2023-02-08 18:58:06.794203|\n",
            "|Corretivo           |Alimentos               |56.22              |76                   |Filial 5    |2022-12-08 18:58:06.794203|\n",
            "|Batom matte         |Roupas                  |94.01              |7                    |Filial 2    |2023-07-18 18:58:06.794203|\n",
            "|Lápis de sobrancelha|Alimentos               |51.38              |4                    |Filial 10   |2023-06-19 18:58:06.794203|\n",
            "|Pó compacto         |Eletrônicos             |5.59               |82                   |Filial 10   |2023-07-19 18:58:06.794203|\n",
            "|Pó compacto         |Eletrônicos             |2.65               |8                    |Filial 3    |2023-05-24 18:58:06.794203|\n",
            "|Corretivo           |Roupas                  |68.62              |6                    |Filial 1    |2023-01-24 18:58:06.794203|\n",
            "|Pó compacto         |Alimentos               |80.94              |70                   |Filial 6    |2023-06-07 18:58:06.794203|\n",
            "|Batom matte         |Alimentos               |26.79              |86                   |Filial 9    |2023-01-10 18:58:06.794203|\n",
            "|Base líquida        |Alimentos               |55.08              |14                   |Filial 5    |2023-02-09 18:58:06.794203|\n",
            "|Base líquida        |Alimentos               |51.34              |13                   |Filial 2    |2022-10-24 18:58:06.794203|\n",
            "|Sombra de olhos     |Alimentos               |31.07              |45                   |Filial 8    |2023-03-06 18:58:06.794203|\n",
            "|Sombra de olhos     |Eletrodomésticos        |78.94              |44                   |Filial 7    |2022-11-12 18:58:06.794203|\n",
            "|Batom matte         |Eletrônicos             |41.15              |91                   |Filial 9    |2023-02-03 18:58:06.794203|\n",
            "+--------------------+------------------------+-------------------+---------------------+------------+--------------------------+\n",
            "only showing top 20 rows\n",
            "\n",
            "root\n",
            " |-- Nome do Item: string (nullable = true)\n",
            " |-- Classificação do Produto: string (nullable = true)\n",
            " |-- Valor em Reais (R$): string (nullable = true)\n",
            " |-- Quantidade em Estoque: string (nullable = true)\n",
            " |-- Nome da Loja: string (nullable = true)\n",
            " |-- Data da Venda: string (nullable = true)\n",
            "\n"
          ]
        }
      ]
    },
    {
      "cell_type": "markdown",
      "source": [
        "## EXPLORANDO OS DADOS"
      ],
      "metadata": {
        "id": "8-biiQK0WVD3"
      }
    },
    {
      "cell_type": "code",
      "source": [
        "df2.describe().show()"
      ],
      "metadata": {
        "colab": {
          "base_uri": "https://localhost:8080/"
        },
        "id": "CVEKPWRr8y0m",
        "outputId": "80541bb8-474b-4c1f-92c9-d6248e94fdb3"
      },
      "execution_count": 15,
      "outputs": [
        {
          "output_type": "stream",
          "name": "stdout",
          "text": [
            "+-------+---------------+------------------------+-------------------+---------------------+------------+--------------------+\n",
            "|summary|   Nome do Item|Classificação do Produto|Valor em Reais (R$)|Quantidade em Estoque|Nome da Loja|       Data da Venda|\n",
            "+-------+---------------+------------------------+-------------------+---------------------+------------+--------------------+\n",
            "|  count|           1323|                    1323|               1323|                 1323|        1323|                1323|\n",
            "|   mean|           null|                    null|  51.07123960695392|    51.33106575963719|        null|                null|\n",
            "| stddev|           null|                    null| 28.784596700957888|    29.09516693853117|        null|                null|\n",
            "|    min|   Base líquida|               Alimentos|               1.08|                    1|    Filial 1|2022-09-05 18:58:...|\n",
            "|    max|Sombra de olhos|                  Roupas|              99.98|                   99|    Filial 9|2023-09-05 18:58:...|\n",
            "+-------+---------------+------------------------+-------------------+---------------------+------------+--------------------+\n",
            "\n"
          ]
        }
      ]
    },
    {
      "cell_type": "markdown",
      "source": [
        "## DATA CLEAN"
      ],
      "metadata": {
        "id": "5qq8Y1yPWuDB"
      }
    },
    {
      "cell_type": "code",
      "source": [
        "# A data de venda não precisa ter dado de horas. Isso aumenta o tempo de processamento.\n",
        "# Vamos tratar esse dado\n",
        "\n",
        "from pyspark.sql.functions import to_date\n",
        "\n",
        "df2 = df2.withColumn(\"Data da Venda\", to_date(\"Data da Venda\"))"
      ],
      "metadata": {
        "id": "StRsKqUhWyWX"
      },
      "execution_count": 17,
      "outputs": []
    },
    {
      "cell_type": "code",
      "source": [
        "df2.show(truncate=False)"
      ],
      "metadata": {
        "colab": {
          "base_uri": "https://localhost:8080/"
        },
        "id": "6pGMCzaZXgQP",
        "outputId": "9446525c-b890-4c9e-c8fc-fde2bbaa11da"
      },
      "execution_count": 18,
      "outputs": [
        {
          "output_type": "stream",
          "name": "stdout",
          "text": [
            "+--------------------+------------------------+-------------------+---------------------+------------+-------------+\n",
            "|Nome do Item        |Classificação do Produto|Valor em Reais (R$)|Quantidade em Estoque|Nome da Loja|Data da Venda|\n",
            "+--------------------+------------------------+-------------------+---------------------+------------+-------------+\n",
            "|Lápis de sobrancelha|Roupas                  |55.17              |62                   |Filial 1    |2023-04-13   |\n",
            "|Batom matte         |Eletrônicos             |74.15              |48                   |Filial 9    |2023-06-03   |\n",
            "|Corretivo           |Roupas                  |54.86              |36                   |Filial 5    |2023-06-08   |\n",
            "|Delineador líquido  |Roupas                  |91.29              |1                    |Filial 8    |2023-02-27   |\n",
            "|Batom líquido       |Roupas                  |44.65              |52                   |Filial 2    |2022-09-05   |\n",
            "|Base líquida        |Eletrônicos             |5.22               |85                   |Filial 3    |2022-09-11   |\n",
            "|Máscara de cílios   |Eletrônicos             |1.08               |31                   |Filial 6    |2023-02-08   |\n",
            "|Corretivo           |Alimentos               |56.22              |76                   |Filial 5    |2022-12-08   |\n",
            "|Batom matte         |Roupas                  |94.01              |7                    |Filial 2    |2023-07-18   |\n",
            "|Lápis de sobrancelha|Alimentos               |51.38              |4                    |Filial 10   |2023-06-19   |\n",
            "|Pó compacto         |Eletrônicos             |5.59               |82                   |Filial 10   |2023-07-19   |\n",
            "|Pó compacto         |Eletrônicos             |2.65               |8                    |Filial 3    |2023-05-24   |\n",
            "|Corretivo           |Roupas                  |68.62              |6                    |Filial 1    |2023-01-24   |\n",
            "|Pó compacto         |Alimentos               |80.94              |70                   |Filial 6    |2023-06-07   |\n",
            "|Batom matte         |Alimentos               |26.79              |86                   |Filial 9    |2023-01-10   |\n",
            "|Base líquida        |Alimentos               |55.08              |14                   |Filial 5    |2023-02-09   |\n",
            "|Base líquida        |Alimentos               |51.34              |13                   |Filial 2    |2022-10-24   |\n",
            "|Sombra de olhos     |Alimentos               |31.07              |45                   |Filial 8    |2023-03-06   |\n",
            "|Sombra de olhos     |Eletrodomésticos        |78.94              |44                   |Filial 7    |2022-11-12   |\n",
            "|Batom matte         |Eletrônicos             |41.15              |91                   |Filial 9    |2023-02-03   |\n",
            "+--------------------+------------------------+-------------------+---------------------+------------+-------------+\n",
            "only showing top 20 rows\n",
            "\n"
          ]
        }
      ]
    },
    {
      "cell_type": "markdown",
      "source": [
        "# PREPARANDO A UNIÃO DAS BASES"
      ],
      "metadata": {
        "id": "DW2kKoprXulA"
      }
    },
    {
      "cell_type": "markdown",
      "source": [
        "## VAMOS MANTER UM PADRÃO ENTRE OS ATRIBUTOS DE CADA BASE"
      ],
      "metadata": {
        "id": "L3Rwp4oxYD9C"
      }
    },
    {
      "cell_type": "markdown",
      "source": [
        "### RENOMEANDO OS ATRIBUTOS DA BASE DA EMPRESA 01"
      ],
      "metadata": {
        "id": "GeXWeTPwYQv_"
      }
    },
    {
      "cell_type": "code",
      "source": [
        "df1.columns"
      ],
      "metadata": {
        "colab": {
          "base_uri": "https://localhost:8080/"
        },
        "id": "zyk3-ogiR99A",
        "outputId": "9eef860a-f923-4a8a-a5ad-4d03c3127a57"
      },
      "execution_count": 19,
      "outputs": [
        {
          "output_type": "execute_result",
          "data": {
            "text/plain": [
              "['Categoria do Produto',\n",
              " 'Filial',\n",
              " 'Nome do Produto',\n",
              " 'Preço do Produto (R$)',\n",
              " 'Quantidade em Estoque']"
            ]
          },
          "metadata": {},
          "execution_count": 19
        }
      ]
    },
    {
      "cell_type": "code",
      "source": [
        "df1 = df1.withColumnRenamed(\"Nome do Produto\", \"Nome_Produto\") \\\n",
        "       .withColumnRenamed(\"Categoria do Produto\", \"Categoria_Produto\") \\\n",
        "       .withColumnRenamed(\"Preço do Produto (R$)\", \"Preco_Produto\") \\\n",
        "       .withColumnRenamed(\"Quantidade em Estoque\", \"Quantidade_Estoque\") \\\n",
        "       .withColumnRenamed(\"Filial\", \"Filial\") \\\n",
        "       .withColumnRenamed(\"Data da Venda\", \"Data_Venda\")\n",
        "\n",
        "df1.printSchema()\n",
        "df1.show(5, truncate=False)"
      ],
      "metadata": {
        "colab": {
          "base_uri": "https://localhost:8080/"
        },
        "id": "v5lncJ1PXDX-",
        "outputId": "ce39ce51-b241-4302-efd6-15d9d92ddf28"
      },
      "execution_count": 20,
      "outputs": [
        {
          "output_type": "stream",
          "name": "stdout",
          "text": [
            "root\n",
            " |-- Categoria_Produto: string (nullable = true)\n",
            " |-- Filial: string (nullable = true)\n",
            " |-- Nome_Produto: string (nullable = true)\n",
            " |-- Preco_Produto: double (nullable = true)\n",
            " |-- Quantidade_Estoque: long (nullable = true)\n",
            "\n",
            "+-----------------+---------+--------------------+-------------+------------------+\n",
            "|Categoria_Produto|Filial   |Nome_Produto        |Preco_Produto|Quantidade_Estoque|\n",
            "+-----------------+---------+--------------------+-------------+------------------+\n",
            "|null             |null     |null                |null         |null              |\n",
            "|Eletrodomésticos |Filial 8 |Lápis de sobrancelha|85.47        |78                |\n",
            "|Roupas           |Filial 8 |Base líquida        |75.02        |34                |\n",
            "|Roupas           |Filial 10|Base líquida        |44.94        |90                |\n",
            "|Alimentos        |Filial 7 |Lápis de sobrancelha|58.63        |91                |\n",
            "+-----------------+---------+--------------------+-------------+------------------+\n",
            "only showing top 5 rows\n",
            "\n"
          ]
        }
      ]
    },
    {
      "cell_type": "markdown",
      "source": [
        "### RENOMEANDO OS ATRIBUTOS DA BASE DA EMPRESA 02"
      ],
      "metadata": {
        "id": "QjBbwRAcYbcU"
      }
    },
    {
      "cell_type": "code",
      "source": [
        "df2.columns"
      ],
      "metadata": {
        "colab": {
          "base_uri": "https://localhost:8080/"
        },
        "id": "_SOybJa5SExv",
        "outputId": "77d7d89a-6ee9-4c0d-e33e-0afd4faed4b1"
      },
      "execution_count": 21,
      "outputs": [
        {
          "output_type": "execute_result",
          "data": {
            "text/plain": [
              "['Nome do Item',\n",
              " 'Classificação do Produto',\n",
              " 'Valor em Reais (R$)',\n",
              " 'Quantidade em Estoque',\n",
              " 'Nome da Loja',\n",
              " 'Data da Venda']"
            ]
          },
          "metadata": {},
          "execution_count": 21
        }
      ]
    },
    {
      "cell_type": "code",
      "source": [
        "df2 = df2.withColumnRenamed(\"Nome do Item\", \"Nome_Produto\") \\\n",
        "       .withColumnRenamed(\"Classificação do Produto\", \"Categoria_Produto\") \\\n",
        "       .withColumnRenamed(\"Valor em Reais (R$)\", \"Preco_Produto\") \\\n",
        "       .withColumnRenamed(\"Quantidade em Estoque\", \"Quantidade_Estoque\") \\\n",
        "       .withColumnRenamed(\"Nome da Loja\", \"Filial\") \\\n",
        "       .withColumnRenamed(\"Data da Venda\", \"Data_Venda\")\n",
        "\n",
        "df2.printSchema()\n",
        "df2.show(5, truncate=False)"
      ],
      "metadata": {
        "colab": {
          "base_uri": "https://localhost:8080/"
        },
        "id": "Q8ggAQUuSZXk",
        "outputId": "6014ffa1-e4d6-401b-b4a6-5f1132fd2d1d"
      },
      "execution_count": 23,
      "outputs": [
        {
          "output_type": "stream",
          "name": "stdout",
          "text": [
            "root\n",
            " |-- Nome_Produto: string (nullable = true)\n",
            " |-- Categoria_Produto: string (nullable = true)\n",
            " |-- Preco_Produto (R$): string (nullable = true)\n",
            " |-- Quantidade_Estoque: string (nullable = true)\n",
            " |-- Filial: string (nullable = true)\n",
            " |-- Data_Venda: date (nullable = true)\n",
            "\n",
            "+--------------------+-----------------+------------------+------------------+--------+----------+\n",
            "|Nome_Produto        |Categoria_Produto|Preco_Produto (R$)|Quantidade_Estoque|Filial  |Data_Venda|\n",
            "+--------------------+-----------------+------------------+------------------+--------+----------+\n",
            "|Lápis de sobrancelha|Roupas           |55.17             |62                |Filial 1|2023-04-13|\n",
            "|Batom matte         |Eletrônicos      |74.15             |48                |Filial 9|2023-06-03|\n",
            "|Corretivo           |Roupas           |54.86             |36                |Filial 5|2023-06-08|\n",
            "|Delineador líquido  |Roupas           |91.29             |1                 |Filial 8|2023-02-27|\n",
            "|Batom líquido       |Roupas           |44.65             |52                |Filial 2|2022-09-05|\n",
            "+--------------------+-----------------+------------------+------------------+--------+----------+\n",
            "only showing top 5 rows\n",
            "\n"
          ]
        }
      ]
    },
    {
      "cell_type": "markdown",
      "source": [
        "### CRIANDO A COLUNA DATA_VENDA NO DF1"
      ],
      "metadata": {
        "id": "qZ-ej4dFaVGi"
      }
    },
    {
      "cell_type": "code",
      "source": [
        "# A quantidade de atributos entre as bases deverá ser exatamente a mesma\n",
        "\n",
        "from pyspark.sql.functions import lit\n",
        "\n",
        "df1 = df1.withColumn(\"Data_Venda\", lit(None))  # cria a coluna nula"
      ],
      "metadata": {
        "id": "5hB1oN6caJI7"
      },
      "execution_count": 25,
      "outputs": []
    },
    {
      "cell_type": "code",
      "source": [
        "df1.show(5, truncate=False)"
      ],
      "metadata": {
        "colab": {
          "base_uri": "https://localhost:8080/"
        },
        "id": "oZE38IcxawLF",
        "outputId": "9e045674-fd6e-4244-d446-365f04f49649"
      },
      "execution_count": 26,
      "outputs": [
        {
          "output_type": "stream",
          "name": "stdout",
          "text": [
            "+-----------------+---------+--------------------+-------------+------------------+----------+\n",
            "|Categoria_Produto|Filial   |Nome_Produto        |Preco_Produto|Quantidade_Estoque|Data_Venda|\n",
            "+-----------------+---------+--------------------+-------------+------------------+----------+\n",
            "|null             |null     |null                |null         |null              |null      |\n",
            "|Eletrodomésticos |Filial 8 |Lápis de sobrancelha|85.47        |78                |null      |\n",
            "|Roupas           |Filial 8 |Base líquida        |75.02        |34                |null      |\n",
            "|Roupas           |Filial 10|Base líquida        |44.94        |90                |null      |\n",
            "|Alimentos        |Filial 7 |Lápis de sobrancelha|58.63        |91                |null      |\n",
            "+-----------------+---------+--------------------+-------------+------------------+----------+\n",
            "only showing top 5 rows\n",
            "\n"
          ]
        }
      ]
    },
    {
      "cell_type": "markdown",
      "source": [
        "### UNINDO AS BASES DAS 2 EMPRESAS"
      ],
      "metadata": {
        "id": "TrmDj_NEYvx2"
      }
    },
    {
      "cell_type": "code",
      "source": [
        "df3 = df1.union(df2)\n",
        "df2.show(20, truncate=False)"
      ],
      "metadata": {
        "colab": {
          "base_uri": "https://localhost:8080/"
        },
        "id": "tEn6QN2MYzNQ",
        "outputId": "7fa6f29b-9950-4dae-a3f0-682db99221b3"
      },
      "execution_count": 27,
      "outputs": [
        {
          "output_type": "stream",
          "name": "stdout",
          "text": [
            "+--------------------+-----------------+------------------+------------------+---------+----------+\n",
            "|Nome_Produto        |Categoria_Produto|Preco_Produto (R$)|Quantidade_Estoque|Filial   |Data_Venda|\n",
            "+--------------------+-----------------+------------------+------------------+---------+----------+\n",
            "|Lápis de sobrancelha|Roupas           |55.17             |62                |Filial 1 |2023-04-13|\n",
            "|Batom matte         |Eletrônicos      |74.15             |48                |Filial 9 |2023-06-03|\n",
            "|Corretivo           |Roupas           |54.86             |36                |Filial 5 |2023-06-08|\n",
            "|Delineador líquido  |Roupas           |91.29             |1                 |Filial 8 |2023-02-27|\n",
            "|Batom líquido       |Roupas           |44.65             |52                |Filial 2 |2022-09-05|\n",
            "|Base líquida        |Eletrônicos      |5.22              |85                |Filial 3 |2022-09-11|\n",
            "|Máscara de cílios   |Eletrônicos      |1.08              |31                |Filial 6 |2023-02-08|\n",
            "|Corretivo           |Alimentos        |56.22             |76                |Filial 5 |2022-12-08|\n",
            "|Batom matte         |Roupas           |94.01             |7                 |Filial 2 |2023-07-18|\n",
            "|Lápis de sobrancelha|Alimentos        |51.38             |4                 |Filial 10|2023-06-19|\n",
            "|Pó compacto         |Eletrônicos      |5.59              |82                |Filial 10|2023-07-19|\n",
            "|Pó compacto         |Eletrônicos      |2.65              |8                 |Filial 3 |2023-05-24|\n",
            "|Corretivo           |Roupas           |68.62             |6                 |Filial 1 |2023-01-24|\n",
            "|Pó compacto         |Alimentos        |80.94             |70                |Filial 6 |2023-06-07|\n",
            "|Batom matte         |Alimentos        |26.79             |86                |Filial 9 |2023-01-10|\n",
            "|Base líquida        |Alimentos        |55.08             |14                |Filial 5 |2023-02-09|\n",
            "|Base líquida        |Alimentos        |51.34             |13                |Filial 2 |2022-10-24|\n",
            "|Sombra de olhos     |Alimentos        |31.07             |45                |Filial 8 |2023-03-06|\n",
            "|Sombra de olhos     |Eletrodomésticos |78.94             |44                |Filial 7 |2022-11-12|\n",
            "|Batom matte         |Eletrônicos      |41.15             |91                |Filial 9 |2023-02-03|\n",
            "+--------------------+-----------------+------------------+------------------+---------+----------+\n",
            "only showing top 20 rows\n",
            "\n"
          ]
        }
      ]
    },
    {
      "cell_type": "code",
      "source": [
        "df3.describe().show()"
      ],
      "metadata": {
        "colab": {
          "base_uri": "https://localhost:8080/"
        },
        "id": "OCQeWYzHZXJK",
        "outputId": "0e8a3664-32ce-4d37-d5ff-8070e246305c"
      },
      "execution_count": 29,
      "outputs": [
        {
          "output_type": "stream",
          "name": "stdout",
          "text": [
            "+-------+-----------------+---------+------------------+------------------+------------------+\n",
            "|summary|Categoria_Produto|   Filial|      Nome_Produto|     Preco_Produto|Quantidade_Estoque|\n",
            "+-------+-----------------+---------+------------------+------------------+------------------+\n",
            "|  count|             4445|     4445|              4445|              4445|              4445|\n",
            "|   mean|             null|     null| 51.07123960695392|50.816868391451074| 49.78891736066624|\n",
            "| stddev|             null|     null|28.784596700957888| 28.52500154422628|28.697931251283403|\n",
            "|    min|        Alimentos|Alimentos|              1.08|                 1|                 1|\n",
            "|    max|  Sombra de olhos|   Roupas|   Sombra de olhos|             99.98|          Filial 9|\n",
            "+-------+-----------------+---------+------------------+------------------+------------------+\n",
            "\n"
          ]
        }
      ]
    },
    {
      "cell_type": "markdown",
      "source": [
        "# SALVANDO OS DADOS EM ARQUIVO PARQUET"
      ],
      "metadata": {
        "id": "eDmwHYln2u0v"
      }
    },
    {
      "cell_type": "code",
      "source": [
        "df3.write.parquet(\"/content/df3.parquet\")"
      ],
      "metadata": {
        "id": "dlSoGWKX2tHz"
      },
      "execution_count": 30,
      "outputs": []
    },
    {
      "cell_type": "code",
      "source": [],
      "metadata": {
        "id": "hsRmAlSgdrAZ"
      },
      "execution_count": null,
      "outputs": []
    }
  ]
}